{
 "cells": [
  {
   "cell_type": "code",
   "execution_count": 1,
   "metadata": {},
   "outputs": [
    {
     "name": "stdout",
     "output_type": "stream",
     "text": [
      "Making a request to /user\n"
     ]
    },
    {
     "ename": "KeyError",
     "evalue": "'login'",
     "output_type": "error",
     "traceback": [
      "\u001b[1;31m---------------------------------------------------------------------------\u001b[0m",
      "\u001b[1;31mKeyError\u001b[0m                                  Traceback (most recent call last)",
      "\u001b[1;32m~\\AppData\\Local\\Temp/ipykernel_33772/3001955280.py\u001b[0m in \u001b[0;36m<module>\u001b[1;34m\u001b[0m\n\u001b[0;32m      3\u001b[0m \u001b[0mgit\u001b[0m \u001b[1;33m=\u001b[0m \u001b[0mGitHubAPI\u001b[0m\u001b[1;33m(\u001b[0m\u001b[1;34m\"panopticarising\"\u001b[0m\u001b[1;33m,\u001b[0m \u001b[1;34m\"TOKEN\"\u001b[0m\u001b[1;33m)\u001b[0m\u001b[1;33m\u001b[0m\u001b[1;33m\u001b[0m\u001b[0m\n\u001b[0;32m      4\u001b[0m \u001b[1;33m\u001b[0m\u001b[0m\n\u001b[1;32m----> 5\u001b[1;33m \u001b[0mgit\u001b[0m\u001b[1;33m.\u001b[0m\u001b[0musers\u001b[0m\u001b[1;33m.\u001b[0m\u001b[0mme\u001b[0m\u001b[1;33m(\u001b[0m\u001b[1;33m)\u001b[0m\u001b[1;33m\u001b[0m\u001b[1;33m\u001b[0m\u001b[0m\n\u001b[0m",
      "\u001b[1;32mc:\\Users\\gibry\\Documents\\Programming\\Python\\github-wrapper\\src\\users.py\u001b[0m in \u001b[0;36mme\u001b[1;34m(self)\u001b[0m\n\u001b[0;32m     16\u001b[0m         \u001b[0mret\u001b[0m \u001b[1;33m=\u001b[0m \u001b[0mself\u001b[0m\u001b[1;33m.\u001b[0m\u001b[0m_github_api\u001b[0m\u001b[1;33m.\u001b[0m\u001b[0mmake_request\u001b[0m\u001b[1;33m(\u001b[0m\u001b[1;34m\"GET\"\u001b[0m\u001b[1;33m,\u001b[0m \u001b[1;34m\"user\"\u001b[0m\u001b[1;33m)\u001b[0m\u001b[1;33m\u001b[0m\u001b[1;33m\u001b[0m\u001b[0m\n\u001b[0;32m     17\u001b[0m         \u001b[0mjson\u001b[0m \u001b[1;33m=\u001b[0m \u001b[0mret\u001b[0m\u001b[1;33m.\u001b[0m\u001b[0mjson\u001b[0m\u001b[1;33m(\u001b[0m\u001b[1;33m)\u001b[0m\u001b[1;33m\u001b[0m\u001b[1;33m\u001b[0m\u001b[0m\n\u001b[1;32m---> 18\u001b[1;33m         \u001b[1;32mreturn\u001b[0m \u001b[0mUser\u001b[0m\u001b[1;33m(\u001b[0m\u001b[0mself\u001b[0m\u001b[1;33m.\u001b[0m\u001b[0m_github_api\u001b[0m\u001b[1;33m,\u001b[0m \u001b[1;33m**\u001b[0m\u001b[0mjson\u001b[0m\u001b[1;33m)\u001b[0m\u001b[1;33m\u001b[0m\u001b[1;33m\u001b[0m\u001b[0m\n\u001b[0m\u001b[0;32m     19\u001b[0m \u001b[1;33m\u001b[0m\u001b[0m\n\u001b[0;32m     20\u001b[0m     \u001b[1;32mdef\u001b[0m \u001b[0mmy_orgs\u001b[0m\u001b[1;33m(\u001b[0m\u001b[0mself\u001b[0m\u001b[1;33m)\u001b[0m\u001b[1;33m:\u001b[0m\u001b[1;33m\u001b[0m\u001b[1;33m\u001b[0m\u001b[0m\n",
      "\u001b[1;32mc:\\Users\\gibry\\Documents\\Programming\\Python\\github-wrapper\\src\\users.py\u001b[0m in \u001b[0;36m__init__\u001b[1;34m(self, _github_api, **kwargs)\u001b[0m\n\u001b[0;32m     38\u001b[0m     \u001b[1;32mdef\u001b[0m \u001b[0m__init__\u001b[0m\u001b[1;33m(\u001b[0m\u001b[0mself\u001b[0m\u001b[1;33m,\u001b[0m \u001b[0m_github_api\u001b[0m\u001b[1;33m,\u001b[0m \u001b[1;33m**\u001b[0m\u001b[0mkwargs\u001b[0m\u001b[1;33m)\u001b[0m\u001b[1;33m:\u001b[0m\u001b[1;33m\u001b[0m\u001b[1;33m\u001b[0m\u001b[0m\n\u001b[0;32m     39\u001b[0m         \u001b[0mself\u001b[0m\u001b[1;33m.\u001b[0m\u001b[0m_github_api\u001b[0m \u001b[1;33m=\u001b[0m \u001b[0m_github_api\u001b[0m\u001b[1;33m\u001b[0m\u001b[1;33m\u001b[0m\u001b[0m\n\u001b[1;32m---> 40\u001b[1;33m         \u001b[0mself\u001b[0m\u001b[1;33m.\u001b[0m\u001b[0mlogin\u001b[0m \u001b[1;33m=\u001b[0m \u001b[0mkwargs\u001b[0m\u001b[1;33m[\u001b[0m\u001b[1;34m\"login\"\u001b[0m\u001b[1;33m]\u001b[0m\u001b[1;33m\u001b[0m\u001b[1;33m\u001b[0m\u001b[0m\n\u001b[0m\u001b[0;32m     41\u001b[0m         \u001b[0mself\u001b[0m\u001b[1;33m.\u001b[0m\u001b[0mid\u001b[0m \u001b[1;33m=\u001b[0m \u001b[0mkwargs\u001b[0m\u001b[1;33m[\u001b[0m\u001b[1;34m\"id\"\u001b[0m\u001b[1;33m]\u001b[0m\u001b[1;33m\u001b[0m\u001b[1;33m\u001b[0m\u001b[0m\n\u001b[0;32m     42\u001b[0m         \u001b[0mself\u001b[0m\u001b[1;33m.\u001b[0m\u001b[0mpublic_repo_count\u001b[0m \u001b[1;33m=\u001b[0m \u001b[0mkwargs\u001b[0m\u001b[1;33m[\u001b[0m\u001b[1;34m\"public_repos\"\u001b[0m\u001b[1;33m]\u001b[0m\u001b[1;33m\u001b[0m\u001b[1;33m\u001b[0m\u001b[0m\n",
      "\u001b[1;31mKeyError\u001b[0m: 'login'"
     ]
    }
   ],
   "source": [
    "from src.base import GitHubAPI\n",
    "\n",
    "git = GitHubAPI(\"panopticarising\", \"TOKEN\")\n",
    "\n",
    "git.users.me()"
   ]
  },
  {
   "cell_type": "code",
   "execution_count": null,
   "metadata": {},
   "outputs": [
    {
     "name": "stdout",
     "output_type": "stream",
     "text": [
      "Making a request to /orgs/rederlyhq\n"
     ]
    },
    {
     "data": {
      "text/html": [
       "\n",
       "            <div>\n",
       "                <h1>rederlyhq<h1>\n",
       "                <p>Online, WeBWorK-compatible homework & assessment platform</p>\n",
       "            </div>\n",
       "            <table>\n",
       "                <tr><td>login</td><td>rederlyhq</td></tr><tr><td>id</td><td>79225339</td></tr><tr><td>node_id</td><td>MDEyOk9yZ2FuaXphdGlvbjc5MjI1MzM5</td></tr><tr><td>url</td><td>https://api.github.com/orgs/rederlyhq</td></tr><tr><td>repos_url</td><td>https://api.github.com/orgs/rederlyhq/repos</td></tr><tr><td>events_url</td><td>https://api.github.com/orgs/rederlyhq/events</td></tr><tr><td>hooks_url</td><td>https://api.github.com/orgs/rederlyhq/hooks</td></tr><tr><td>issues_url</td><td>https://api.github.com/orgs/rederlyhq/issues</td></tr><tr><td>members_url</td><td>https://api.github.com/orgs/rederlyhq/members{/member}</td></tr><tr><td>public_members_url</td><td>https://api.github.com/orgs/rederlyhq/public_members{/member}</td></tr><tr><td>avatar_url</td><td>https://avatars.githubusercontent.com/u/79225339?v=4</td></tr><tr><td>description</td><td>Online, WeBWorK-compatible homework & assessment platform</td></tr><tr><td>name</td><td>Rederly</td></tr><tr><td>company</td><td>None</td></tr><tr><td>blog</td><td>https://rederly.com</td></tr><tr><td>location</td><td>New York</td></tr><tr><td>email</td><td>None</td></tr><tr><td>twitter_username</td><td>RederlyHQ</td></tr><tr><td>is_verified</td><td>False</td></tr><tr><td>has_organization_projects</td><td>True</td></tr><tr><td>has_repository_projects</td><td>True</td></tr><tr><td>public_repos</td><td>23</td></tr><tr><td>public_gists</td><td>0</td></tr><tr><td>followers</td><td>0</td></tr><tr><td>following</td><td>0</td></tr><tr><td>html_url</td><td>https://github.com/rederlyhq</td></tr><tr><td>created_at</td><td>2021-02-17T19:57:06Z</td></tr><tr><td>updated_at</td><td>2021-02-17T20:24:19Z</td></tr><tr><td>type</td><td>Organization</td></tr><tr><td>total_private_repos</td><td>1</td></tr><tr><td>owned_private_repos</td><td>1</td></tr><tr><td>private_gists</td><td>None</td></tr><tr><td>disk_usage</td><td>None</td></tr><tr><td>collaborators</td><td>None</td></tr><tr><td>billing_email</td><td>None</td></tr><tr><td>default_repository_permission</td><td>None</td></tr><tr><td>members_can_create_repositories</td><td>True</td></tr><tr><td>two_factor_requirement_enabled</td><td>None</td></tr><tr><td>members_allowed_repository_creation_type</td><td>all</td></tr><tr><td>members_can_create_public_repositories</td><td>True</td></tr><tr><td>members_can_create_private_repositories</td><td>True</td></tr><tr><td>members_can_create_internal_repositories</td><td>False</td></tr><tr><td>members_can_create_pages</td><td>True</td></tr><tr><td>members_can_fork_private_repositories</td><td>False</td></tr><tr><td>members_can_create_public_pages</td><td>True</td></tr><tr><td>members_can_create_private_pages</td><td>True</td></tr><tr><td>plan</td><td>{'name': 'free', 'space': 976562499, 'private_repos': 10000, 'filled_seats': 4, 'seats': 1}</td></tr>\n",
       "            </table>\n",
       "        "
      ],
      "text/plain": [
       "<src.orgs.Org at 0x1d76fd94940>"
      ]
     },
     "execution_count": 2,
     "metadata": {},
     "output_type": "execute_result"
    }
   ],
   "source": [
    "git.orgs.get('rederlyhq')"
   ]
  },
  {
   "cell_type": "code",
   "execution_count": null,
   "metadata": {},
   "outputs": [
    {
     "name": "stdout",
     "output_type": "stream",
     "text": [
      "Making a request to /user\n",
      "Making a request to /users/PanopticaRising/repos\n"
     ]
    },
    {
     "data": {
      "text/plain": [
       "[<src.repos.Repo at 0x1d770434eb0>,\n",
       " <src.repos.Repo at 0x1d7704348b0>,\n",
       " <src.repos.Repo at 0x1d770434ee0>,\n",
       " <src.repos.Repo at 0x1d770434be0>,\n",
       " <src.repos.Repo at 0x1d76f945d90>,\n",
       " <src.repos.Repo at 0x1d76f945ee0>,\n",
       " <src.repos.Repo at 0x1d76f945fa0>,\n",
       " <src.repos.Repo at 0x1d76e9ff5e0>,\n",
       " <src.repos.Repo at 0x1d76e9e6fa0>,\n",
       " <src.repos.Repo at 0x1d76fd94190>,\n",
       " <src.repos.Repo at 0x1d76fd7ce80>,\n",
       " <src.repos.Repo at 0x1d76fd7ca30>,\n",
       " <src.repos.Repo at 0x1d76fd7ca90>,\n",
       " <src.repos.Repo at 0x1d76fd7cc40>,\n",
       " <src.repos.Repo at 0x1d76fd7cca0>,\n",
       " <src.repos.Repo at 0x1d76fd7cbb0>,\n",
       " <src.repos.Repo at 0x1d76fd7c730>,\n",
       " <src.repos.Repo at 0x1d76fd7c6a0>,\n",
       " <src.repos.Repo at 0x1d76fd7c8e0>,\n",
       " <src.repos.Repo at 0x1d76fd7c820>,\n",
       " <src.repos.Repo at 0x1d76fd7c310>,\n",
       " <src.repos.Repo at 0x1d76fd60130>]"
      ]
     },
     "execution_count": 3,
     "metadata": {},
     "output_type": "execute_result"
    }
   ],
   "source": [
    "git.users.me().get_repos()"
   ]
  },
  {
   "cell_type": "code",
   "execution_count": null,
   "metadata": {},
   "outputs": [
    {
     "name": "stdout",
     "output_type": "stream",
     "text": [
      "Making a request to /user/orgs\n",
      "Making a request to /orgs/rederly/repos\n"
     ]
    },
    {
     "data": {
      "text/plain": [
       "[<src.repos.Repo at 0x1d76fd60100>,\n",
       " <src.repos.Repo at 0x1d76e9ff490>,\n",
       " <src.repos.Repo at 0x1d76e9ff460>,\n",
       " <src.repos.Repo at 0x1d76e9f3340>,\n",
       " <src.repos.Repo at 0x1d76fd94b20>]"
      ]
     },
     "execution_count": 4,
     "metadata": {},
     "output_type": "execute_result"
    }
   ],
   "source": [
    "git.users.my_orgs()[0].get_repositories()"
   ]
  },
  {
   "cell_type": "code",
   "execution_count": null,
   "metadata": {},
   "outputs": [
    {
     "name": "stdout",
     "output_type": "stream",
     "text": [
      "Making a request to /repos/panopticarising/mathy-editor\n"
     ]
    },
    {
     "data": {
      "text/html": [
       "\n",
       "            <table>\n",
       "                <tr><td>id</td><td>457581497</td></tr><tr><td>node_id</td><td>R_kgDOG0YjuQ</td></tr><tr><td>name</td><td>mathy-editor</td></tr><tr><td>full_name</td><td>PanopticaRising/mathy-editor</td></tr><tr><td>private</td><td>False</td></tr><tr><td>owner</td><td>{'login': 'PanopticaRising', 'id': 68256772, 'node_id': 'MDQ6VXNlcjY4MjU2Nzcy', 'avatar_url': 'https://avatars.githubusercontent.com/u/68256772?v=4', 'gravatar_id': '', 'url': 'https://api.github.com/users/PanopticaRising', 'html_url': 'https://github.com/PanopticaRising', 'followers_url': 'https://api.github.com/users/PanopticaRising/followers', 'following_url': 'https://api.github.com/users/PanopticaRising/following{/other_user}', 'gists_url': 'https://api.github.com/users/PanopticaRising/gists{/gist_id}', 'starred_url': 'https://api.github.com/users/PanopticaRising/starred{/owner}{/repo}', 'subscriptions_url': 'https://api.github.com/users/PanopticaRising/subscriptions', 'organizations_url': 'https://api.github.com/users/PanopticaRising/orgs', 'repos_url': 'https://api.github.com/users/PanopticaRising/repos', 'events_url': 'https://api.github.com/users/PanopticaRising/events{/privacy}', 'received_events_url': 'https://api.github.com/users/PanopticaRising/received_events', 'type': 'User', 'site_admin': False}</td></tr><tr><td>html_url</td><td>https://github.com/PanopticaRising/mathy-editor</td></tr><tr><td>description</td><td>A GUI math problem maker, downstream mirror.</td></tr><tr><td>fork</td><td>False</td></tr><tr><td>url</td><td>https://api.github.com/repos/PanopticaRising/mathy-editor</td></tr><tr><td>forks_url</td><td>https://api.github.com/repos/PanopticaRising/mathy-editor/forks</td></tr><tr><td>keys_url</td><td>https://api.github.com/repos/PanopticaRising/mathy-editor/keys{/key_id}</td></tr><tr><td>collaborators_url</td><td>https://api.github.com/repos/PanopticaRising/mathy-editor/collaborators{/collaborator}</td></tr><tr><td>teams_url</td><td>https://api.github.com/repos/PanopticaRising/mathy-editor/teams</td></tr><tr><td>hooks_url</td><td>https://api.github.com/repos/PanopticaRising/mathy-editor/hooks</td></tr><tr><td>issue_events_url</td><td>https://api.github.com/repos/PanopticaRising/mathy-editor/issues/events{/number}</td></tr><tr><td>events_url</td><td>https://api.github.com/repos/PanopticaRising/mathy-editor/events</td></tr><tr><td>assignees_url</td><td>https://api.github.com/repos/PanopticaRising/mathy-editor/assignees{/user}</td></tr><tr><td>branches_url</td><td>https://api.github.com/repos/PanopticaRising/mathy-editor/branches{/branch}</td></tr><tr><td>tags_url</td><td>https://api.github.com/repos/PanopticaRising/mathy-editor/tags</td></tr><tr><td>blobs_url</td><td>https://api.github.com/repos/PanopticaRising/mathy-editor/git/blobs{/sha}</td></tr><tr><td>git_tags_url</td><td>https://api.github.com/repos/PanopticaRising/mathy-editor/git/tags{/sha}</td></tr><tr><td>git_refs_url</td><td>https://api.github.com/repos/PanopticaRising/mathy-editor/git/refs{/sha}</td></tr><tr><td>trees_url</td><td>https://api.github.com/repos/PanopticaRising/mathy-editor/git/trees{/sha}</td></tr><tr><td>statuses_url</td><td>https://api.github.com/repos/PanopticaRising/mathy-editor/statuses/{sha}</td></tr><tr><td>languages_url</td><td>https://api.github.com/repos/PanopticaRising/mathy-editor/languages</td></tr><tr><td>stargazers_url</td><td>https://api.github.com/repos/PanopticaRising/mathy-editor/stargazers</td></tr><tr><td>contributors_url</td><td>https://api.github.com/repos/PanopticaRising/mathy-editor/contributors</td></tr><tr><td>subscribers_url</td><td>https://api.github.com/repos/PanopticaRising/mathy-editor/subscribers</td></tr><tr><td>subscription_url</td><td>https://api.github.com/repos/PanopticaRising/mathy-editor/subscription</td></tr><tr><td>commits_url</td><td>https://api.github.com/repos/PanopticaRising/mathy-editor/commits{/sha}</td></tr><tr><td>git_commits_url</td><td>https://api.github.com/repos/PanopticaRising/mathy-editor/git/commits{/sha}</td></tr><tr><td>comments_url</td><td>https://api.github.com/repos/PanopticaRising/mathy-editor/comments{/number}</td></tr><tr><td>issue_comment_url</td><td>https://api.github.com/repos/PanopticaRising/mathy-editor/issues/comments{/number}</td></tr><tr><td>contents_url</td><td>https://api.github.com/repos/PanopticaRising/mathy-editor/contents/{+path}</td></tr><tr><td>compare_url</td><td>https://api.github.com/repos/PanopticaRising/mathy-editor/compare/{base}...{head}</td></tr><tr><td>merges_url</td><td>https://api.github.com/repos/PanopticaRising/mathy-editor/merges</td></tr><tr><td>archive_url</td><td>https://api.github.com/repos/PanopticaRising/mathy-editor/{archive_format}{/ref}</td></tr><tr><td>downloads_url</td><td>https://api.github.com/repos/PanopticaRising/mathy-editor/downloads</td></tr><tr><td>issues_url</td><td>https://api.github.com/repos/PanopticaRising/mathy-editor/issues{/number}</td></tr><tr><td>pulls_url</td><td>https://api.github.com/repos/PanopticaRising/mathy-editor/pulls{/number}</td></tr><tr><td>milestones_url</td><td>https://api.github.com/repos/PanopticaRising/mathy-editor/milestones{/number}</td></tr><tr><td>notifications_url</td><td>https://api.github.com/repos/PanopticaRising/mathy-editor/notifications{?since,all,participating}</td></tr><tr><td>labels_url</td><td>https://api.github.com/repos/PanopticaRising/mathy-editor/labels{/name}</td></tr><tr><td>releases_url</td><td>https://api.github.com/repos/PanopticaRising/mathy-editor/releases{/id}</td></tr><tr><td>deployments_url</td><td>https://api.github.com/repos/PanopticaRising/mathy-editor/deployments</td></tr><tr><td>created_at</td><td>2022-02-10T00:58:38Z</td></tr><tr><td>updated_at</td><td>2022-02-10T00:59:13Z</td></tr><tr><td>pushed_at</td><td>2022-02-10T01:11:40Z</td></tr><tr><td>git_url</td><td>git://github.com/PanopticaRising/mathy-editor.git</td></tr><tr><td>ssh_url</td><td>git@github.com:PanopticaRising/mathy-editor.git</td></tr><tr><td>clone_url</td><td>https://github.com/PanopticaRising/mathy-editor.git</td></tr><tr><td>svn_url</td><td>https://github.com/PanopticaRising/mathy-editor</td></tr><tr><td>homepage</td><td>None</td></tr><tr><td>size</td><td>3225</td></tr><tr><td>stargazers_count</td><td>0</td></tr><tr><td>watchers_count</td><td>0</td></tr><tr><td>language</td><td>TypeScript</td></tr><tr><td>has_issues</td><td>True</td></tr><tr><td>has_projects</td><td>True</td></tr><tr><td>has_downloads</td><td>True</td></tr><tr><td>has_wiki</td><td>True</td></tr><tr><td>has_pages</td><td>True</td></tr><tr><td>forks_count</td><td>0</td></tr><tr><td>mirror_url</td><td>None</td></tr><tr><td>archived</td><td>False</td></tr><tr><td>disabled</td><td>False</td></tr><tr><td>open_issues_count</td><td>0</td></tr><tr><td>license</td><td>None</td></tr><tr><td>allow_forking</td><td>True</td></tr><tr><td>is_template</td><td>False</td></tr><tr><td>topics</td><td>[]</td></tr><tr><td>visibility</td><td>public</td></tr><tr><td>forks</td><td>0</td></tr><tr><td>open_issues</td><td>0</td></tr><tr><td>watchers</td><td>0</td></tr><tr><td>default_branch</td><td>main</td></tr><tr><td>permissions</td><td>{'admin': True, 'maintain': True, 'push': True, 'triage': True, 'pull': True}</td></tr><tr><td>temp_clone_token</td><td></td></tr><tr><td>allow_squash_merge</td><td>True</td></tr><tr><td>allow_merge_commit</td><td>True</td></tr><tr><td>allow_rebase_merge</td><td>True</td></tr><tr><td>allow_auto_merge</td><td>False</td></tr><tr><td>delete_branch_on_merge</td><td>False</td></tr><tr><td>allow_update_branch</td><td>False</td></tr><tr><td>network_count</td><td>0</td></tr><tr><td>subscribers_count</td><td>1</td></tr>\n",
       "            </table>\n",
       "        "
      ],
      "text/plain": [
       "<src.repos.Repo at 0x1d76fd60b50>"
      ]
     },
     "execution_count": 5,
     "metadata": {},
     "output_type": "execute_result"
    }
   ],
   "source": [
    "git.repos.get(\"panopticarising\", \"mathy-editor\")"
   ]
  }
 ],
 "metadata": {
  "interpreter": {
   "hash": "63fd5069d213b44bf678585dea6b12cceca9941eaf7f819626cde1f2670de90d"
  },
  "kernelspec": {
   "display_name": "Python 3.9.6 64-bit",
   "language": "python",
   "name": "python3"
  },
  "language_info": {
   "codemirror_mode": {
    "name": "ipython",
    "version": 3
   },
   "file_extension": ".py",
   "mimetype": "text/x-python",
   "name": "python",
   "nbconvert_exporter": "python",
   "pygments_lexer": "ipython3",
   "version": "3.9.6"
  },
  "orig_nbformat": 4
 },
 "nbformat": 4,
 "nbformat_minor": 2
}
